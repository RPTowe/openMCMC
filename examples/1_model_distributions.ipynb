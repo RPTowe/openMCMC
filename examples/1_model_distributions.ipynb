{
 "cells": [
  {
   "cell_type": "markdown",
   "metadata": {},
   "source": [
    "# Defining a Model in open_mcmc\n"
   ]
  },
  {
   "cell_type": "markdown",
   "metadata": {},
   "source": [
    "## Simple Bayesian Model\n",
    "\n",
    "Taking a Bayesian approach to modelling, we have prior beliefs about a parameter $h$, summarized by a prior distribution $f(h)$. Given $h$, observed data values are believed to be distributed according to $f(y|h)$ (the likelihood).\n",
    "\n",
    "Using Bayes theorem, the posterior distribution for $h$ is then\n",
    "\n",
    "$$ f(h | y ) \\propto f(y | h) f(h)$$\n",
    "\n",
    "In this example, we assume that both the prior and the likelihood are Normal distributions, with known precisions: i.e.\n",
    "$$f(y | h) \\sim N( h, \\tau^{-1}) $$\n",
    "and \n",
    "$$ f(h) \\sim N( \\mu, \\lambda^{-1} )$$\n",
    "where\n",
    "* $\\tau$  is the measurement precision for observations $y$\n",
    "* $\\mu$  is the prior mean for $h$\n",
    "* $\\lambda$  is the prior precision for $h$\n",
    "\n",
    "## Setting up the model.\n",
    "\n",
    "In the openmcmc package, a number of different types of distribution are available- in this example, we use only the Normal distribution.\n",
    "\n",
    "The mean and precision parameters of the Normal distribution can be passed either as strings or as Parameter objects (these will be covered in later examples). Variables corresponding to the strings passed as distribution parameters must also be present in any state dictionary that is used for evaluation or estimation (see below)."
   ]
  },
  {
   "cell_type": "code",
   "execution_count": 1,
   "metadata": {},
   "outputs": [],
   "source": [
    "# import modules required for the example\n",
    "import numpy as np\n",
    "from openmcmc.model import Model\n",
    "from openmcmc.distribution.location_scale import Normal"
   ]
  },
  {
   "cell_type": "markdown",
   "metadata": {},
   "source": [
    "The cell below defines a single `distribution.Normal` object."
   ]
  },
  {
   "cell_type": "code",
   "execution_count": 2,
   "metadata": {},
   "outputs": [],
   "source": [
    "my_dist = Normal('y', mean='h', precision='tau')"
   ]
  },
  {
   "cell_type": "markdown",
   "metadata": {},
   "source": [
    "In the cell below, we define a `Model` object by passing multiple distributions as a list (corresponding to the likelihood and the prior)."
   ]
  },
  {
   "cell_type": "code",
   "execution_count": 3,
   "metadata": {},
   "outputs": [],
   "source": [
    "mdl = Model([Normal('y', mean='h', precision='tau'),\n",
    "             Normal('h', mean='mu', precision='lambda')])"
   ]
  },
  {
   "cell_type": "markdown",
   "metadata": {},
   "source": [
    "The objects above define distributions or models, but in order to evaluate likelihoods or estimate parameters, we must pass a `state` dictionary which contains specific values for the parameters. A suitable `state` object for this example is defined below.\n",
    "\n",
    "All items in the `state` dictionary are expected to have strings as keys, and values are expected to be `np.ndarray` objects which are at least 2D. The sizes used must be compatible for the desired operations."
   ]
  },
  {
   "cell_type": "code",
   "execution_count": 4,
   "metadata": {},
   "outputs": [
    {
     "data": {
      "text/plain": [
       "{'y': array([[150, 155, 190, 160, 173]]),\n",
       " 'h': array([[180]]),\n",
       " 'tau': array([[0.005]]),\n",
       " 'mu': array([[160]]),\n",
       " 'lambda': array([[0.01]])}"
      ]
     },
     "execution_count": 4,
     "metadata": {},
     "output_type": "execute_result"
    }
   ],
   "source": [
    "state = {}\n",
    "state['y']=np.array([150, 155, 190, 160, 173], ndmin=2)\n",
    "state['h'] = np.array(180, ndmin=2)\n",
    "state['tau'] = np.array(1 / 200, ndmin=2)\n",
    "state['mu'] = np.array(160, ndmin=2)\n",
    "state['lambda'] = np.array(1 / 100, ndmin=2)\n",
    "\n",
    "state"
   ]
  },
  {
   "cell_type": "markdown",
   "metadata": {},
   "source": [
    "## Making function calls"
   ]
  },
  {
   "cell_type": "markdown",
   "metadata": {},
   "source": [
    "Having set up `my_dist` as the likelihood distribution above, we can generate random samples from it conditional on parameter values passed in `state`, as below:"
   ]
  },
  {
   "cell_type": "code",
   "execution_count": 5,
   "metadata": {},
   "outputs": [
    {
     "data": {
      "text/plain": [
       "array([[181.30730587, 179.18346712, 178.72074165, 171.80306536,\n",
       "        183.87886684]])"
      ]
     },
     "execution_count": 5,
     "metadata": {},
     "output_type": "execute_result"
    }
   ],
   "source": [
    "my_dist.rvs(state, n=5)"
   ]
  },
  {
   "cell_type": "markdown",
   "metadata": {},
   "source": [
    "Having set up `mdl` as a model containing both the likelihood and prior distributions, we can evaluate the log-posterior distribution (up to an additive constant) for the parameter values passed in `state`, as below:"
   ]
  },
  {
   "cell_type": "code",
   "execution_count": 6,
   "metadata": {},
   "outputs": [
    {
     "data": {
      "text/plain": [
       "-28.24700970859217"
      ]
     },
     "execution_count": 6,
     "metadata": {},
     "output_type": "execute_result"
    }
   ],
   "source": [
    "mdl.log_p(state)"
   ]
  },
  {
   "cell_type": "markdown",
   "metadata": {},
   "source": [
    "In the same way, we can use the `grad_log_p` function (defined both for individual distributions and for models which combine distributions) to evaluate the gradient and the Hessian of the log-density/log-posterior at the `state` parameter values, as below:"
   ]
  },
  {
   "cell_type": "code",
   "execution_count": 7,
   "metadata": {},
   "outputs": [
    {
     "name": "stdout",
     "output_type": "stream",
     "text": [
      "[[-0.56]]\n",
      "[[0.035]]\n"
     ]
    }
   ],
   "source": [
    "gradient, hessian = mdl.grad_log_p(state, param='h')\n",
    "\n",
    "print(gradient)\n",
    "print(hessian)"
   ]
  }
 ],
 "metadata": {
  "kernelspec": {
   "display_name": "Python 3 (ipykernel)",
   "language": "python",
   "name": "python3"
  },
  "language_info": {
   "codemirror_mode": {
    "name": "ipython",
    "version": 3
   },
   "file_extension": ".py",
   "mimetype": "text/x-python",
   "name": "python",
   "nbconvert_exporter": "python",
   "pygments_lexer": "ipython3",
   "version": "3.11.4"
  }
 },
 "nbformat": 4,
 "nbformat_minor": 4
}
